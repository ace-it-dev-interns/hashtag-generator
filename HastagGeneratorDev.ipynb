{
  "nbformat": 4,
  "nbformat_minor": 0,
  "metadata": {
    "colab": {
      "name": "HastagGeneratorDev",
      "provenance": [],
      "collapsed_sections": [],
      "toc_visible": true,
      "include_colab_link": true
    },
    "kernelspec": {
      "name": "python3",
      "display_name": "Python 3"
    }
  },
  "cells": [
    {
      "cell_type": "markdown",
      "metadata": {
        "id": "view-in-github",
        "colab_type": "text"
      },
      "source": [
        "<a href=\"https://colab.research.google.com/github/sv4u/hashtag-generator/blob/master/HastagGeneratorDev.ipynb\" target=\"_parent\"><img src=\"https://colab.research.google.com/assets/colab-badge.svg\" alt=\"Open In Colab\"/></a>"
      ]
    },
    {
      "cell_type": "markdown",
      "metadata": {
        "id": "g_P58U68ZFNA",
        "colab_type": "text"
      },
      "source": [
        "# Hashtag Generator Development\n",
        "\n",
        "TODO: insert broad description for entire file"
      ]
    },
    {
      "cell_type": "markdown",
      "metadata": {
        "id": "YNipHorprb0I",
        "colab_type": "text"
      },
      "source": [
        "# PrettyTable Installment"
      ]
    },
    {
      "cell_type": "code",
      "metadata": {
        "id": "ttJpxsYyreF9",
        "colab_type": "code",
        "colab": {
          "base_uri": "https://localhost:8080/",
          "height": 34
        },
        "outputId": "1f47d287-b9c2-4a4e-b6c0-7bbd3cbc766d"
      },
      "source": [
        "!pip install PrettyTable"
      ],
      "execution_count": null,
      "outputs": [
        {
          "output_type": "stream",
          "text": [
            "Requirement already satisfied: PrettyTable in /usr/local/lib/python3.6/dist-packages (0.7.2)\n"
          ],
          "name": "stdout"
        }
      ]
    },
    {
      "cell_type": "markdown",
      "metadata": {
        "id": "I-8NJO5ZbC22",
        "colab_type": "text"
      },
      "source": [
        "## Import Statements\n",
        "\n",
        "TODO: insert reasoning behind each import"
      ]
    },
    {
      "cell_type": "code",
      "metadata": {
        "id": "qSaPSukJycfQ",
        "colab_type": "code",
        "colab": {}
      },
      "source": [
        "import datetime\n",
        "import requests\n",
        "import json\n",
        "from prettytable import PrettyTable\n",
        "import pandas as pd"
      ],
      "execution_count": null,
      "outputs": []
    },
    {
      "cell_type": "markdown",
      "metadata": {
        "id": "beEaLBCybL-u",
        "colab_type": "text"
      },
      "source": [
        "## API Setup Functions\n",
        "\n",
        "TODO: add broad description for this section"
      ]
    },
    {
      "cell_type": "code",
      "metadata": {
        "id": "SueM2SPOPGKA",
        "colab_type": "code",
        "colab": {}
      },
      "source": [
        "def getCreds():\n",
        "\t\"\"\" Get creds required for use in the applications\n",
        "\t\n",
        "\tReturns:\n",
        "\t\tdictonary: credentials needed globally\n",
        "\t\"\"\"\n",
        "\n",
        "\tcreds = dict() # dictionary to hold everything\n",
        "\tcreds['access_token'] = 'EAAFEzPo2nKMBAEnaqLj74ZAiXIYYZAZB8RUKFmZCZAPIVzaG7eZCHOexp5v4ZAuiehn5MSzyw8NmQMhNPeRCNKKZBa5L0WTeZCZAHMHA1wyBCHK08rY3xLsyLdHlfYvSfHtHpf1abiMdZAC55qZAv8dXfQQKYT0PDNeF9UHyXiyaCjqp0AZDZD' # access token for use with all api calls\n",
        "\tcreds['client_id'] = '357122138610851' # client id from facebook app hashtag-generator\n",
        "\tcreds['client_secret'] = '8a3384e6ad85e79ecea9e3b24fb8db20' # client secret from facebook app\n",
        "\tcreds['graph_domain'] = 'https://graph.facebook.com/' # base domain for api calls\n",
        "\tcreds['graph_version'] = 'v8.0' # version of the api we are hitting\n",
        "\tcreds['endpoint_base'] = creds['graph_domain'] + creds['graph_version'] + '/' # base endpoint with domain and version\n",
        "\tcreds['debug'] = 'no' # debug mode for api call\n",
        "\tcreds['page_id'] = '103099641435304' # users page id\n",
        "\tcreds['instagram_account_id'] = '17841434402398007' # users instagram account id\n",
        "\tcreds['ig_username'] = 'getaheadtutor' # ig username\n",
        "\n",
        "\treturn creds\n",
        "\n",
        "def makeApiCall( url, endpointParams, debug = 'no' ):\n",
        "\t\"\"\" Request data from endpoint with params\n",
        "\t\n",
        "\tArgs:\n",
        "\t\turl: string of the url endpoint to make request from\n",
        "\t\tendpointParams: dictionary keyed by the names of the url parameters\n",
        "\tReturns:\n",
        "\t\tobject: data from the endpoint\n",
        "\t\"\"\"\n",
        "\n",
        "\tdata = requests.get( url, endpointParams ) # make get request; gets output data from API call\n",
        "\n",
        "\tresponse = dict() # hold response info\n",
        "\tresponse['url'] = url # url we are hitting\n",
        "\tresponse['endpoint_params'] = endpointParams #parameters for the endpoint\n",
        "\tresponse['endpoint_params_pretty'] = json.dumps( endpointParams, indent = 4 ) # pretty print for cli\n",
        "\tresponse['json_data'] = json.loads( data.content ) # response data from the api\n",
        "\tresponse['json_data_pretty'] = json.dumps( response['json_data'], indent = 4 ) # pretty print for cli\n",
        "\n",
        "\tif ( 'yes' == debug ) : # display out response info\n",
        "\t\tdisplayApiCallData( response ) # display response\n",
        "\n",
        "\treturn response # get and return content\n",
        "\n",
        "def displayApiCallData( response ) :\n",
        "\t\"\"\" Print out to cli response from api call \"\"\"\n",
        "\n",
        "\tprint(\"\\nURL: \") # title\n",
        "\tprint(response['url']) # display url hit\n",
        "\tprint(\"\\nEndpoint Params: \") # title\n",
        "\tprint(response['endpoint_params_pretty']) # display params passed to the endpoint\n",
        "\tprint(\"\\nResponse: \") # title\n",
        "\tprint(response['json_data_pretty']) # make look pretty for cli\n",
        "\n",
        "def debugAccessToken( params ) :\n",
        "\t\"\"\" Get info on an access token \n",
        "\t\n",
        "\tAPI Endpoint:\n",
        "\t\thttps://graph.facebook.com/debug_token?input_token={input-token}&access_token={valid-access-token}\n",
        "\tReturns:\n",
        "\t\tobject: data from the endpoint\n",
        "\t\"\"\"\n",
        "\n",
        "\tendpointParams = dict() # parameter to send to the endpoint\n",
        "\tendpointParams['input_token'] = params['access_token'] # input token is the access token\n",
        "\tendpointParams['access_token'] = params['access_token'] # access token to get debug info on\n",
        "\n",
        "\turl = params['graph_domain'] + '/debug_token' # endpoint url\n",
        "\n",
        "\treturn makeApiCall( url, endpointParams, params['debug'] ) # make the api call\n",
        "\n",
        "def getLongLivedAccessToken( params ):\n",
        "\t\"\"\" Get long lived access token\n",
        "\t\n",
        "\tAPI Endpoint:\n",
        "\t\thttps://graph.facebook.com/{graph-api-version}/oauth/access_token?grant_type=fb_exchange_token&client_id={app-id}&client_secret={app-secret}&fb_exchange_token={your-access-token}\n",
        "\tReturns:\n",
        "\t\tobject: data from the endpoint\n",
        "\t\"\"\"\n",
        "\n",
        "\tendpointParams = dict() # parameter to send to the endpoint\n",
        "\tendpointParams['grant_type'] = 'fb_exchange_token' # tell facebook we want to exchange token\n",
        "\tendpointParams['client_id'] = params['client_id'] # client id from facebook app\n",
        "\tendpointParams['client_secret'] = params['client_secret'] # client secret from facebook app\n",
        "\tendpointParams['fb_exchange_token'] = params['access_token'] # access token to get exchange for a long lived token\n",
        "\n",
        "\turl = params['endpoint_base'] + 'oauth/access_token' # endpoint url\n",
        "\n",
        "\treturn makeApiCall( url, endpointParams, params['debug'] ) # make the api call\n",
        "\n",
        "def getHashtagInfo( hashtag, params ) :\n",
        "\t\"\"\" Get info on a hashtag\n",
        "\t\n",
        "\tAPI Endpoint:\n",
        "\t\thttps://graph.facebook.com/{graph-api-version}/ig_hashtag_search?user_id={user-id}&q={hashtag-name}&fields={fields}\n",
        "\tReturns:\n",
        "\t\tobject: data from the endpoint\n",
        "\t\"\"\"\n",
        "\n",
        "\tendpointParams = dict() # parameter to send to the endpoint\n",
        "\tendpointParams['user_id'] = params['instagram_account_id'] # user id making request\n",
        "\tendpointParams['q'] = hashtag # hashtag name\n",
        "\tendpointParams['fields'] = 'id,name' # fields to get back\n",
        "\tendpointParams['access_token'] = params['access_token'] # access token\n",
        "\n",
        "\turl = params['endpoint_base'] + 'ig_hashtag_search' # endpoint url\n",
        "\n",
        "\treturn makeApiCall( url, endpointParams, params['debug'] ) # make the api call\n",
        "\n",
        "def getHashtagMedia( params ) :\n",
        "\t\"\"\" Get posts for a hashtag\n",
        "\t\n",
        "\tAPI Endpoints:\n",
        "\t\thttps://graph.facebook.com/{graph-api-version}/{ig-hashtag-id}/top_media?user_id={user-id}&fields={fields}\n",
        "\t\thttps://graph.facebook.com/{graph-api-version}/{ig-hashtag-id}/recent_media?user_id={user-id}&fields={fields}\n",
        "\tReturns:\n",
        "\t\tobject: data from the endpoint\n",
        "\t\"\"\"\n",
        "\n",
        "\tendpointParams = dict() # parameter to send to the endpoint\n",
        "\tendpointParams['user_id'] = params['instagram_account_id'] # user id making request\n",
        "\tendpointParams['fields'] = 'id,children,caption,comments_count,like_count,media_type,media_url,permalink' # fields to get back\n",
        "\tendpointParams['access_token'] = params['access_token'] # access token\n",
        "\n",
        "\turl = params['endpoint_base'] + params['hashtag_id'] + '/' + params['type'] # endpoint url\n",
        "\n",
        "\treturn makeApiCall( url, endpointParams, params['debug'] ) # make the api call\n",
        "\n",
        "def getHashtagMediaAll( hashtag_id, params ):\n",
        "\t\"\"\"\n",
        "\tGet top and recent hashtag media for hashtag_id\n",
        "\t\"\"\"\n",
        "\t\n",
        "\tparams = params.copy() #create local version of cred params\n",
        "\n",
        "\t# params['hashtag_id'] = '17841593875074036' #provides target hashtag id\n",
        "\tparams['hashtag_id'] = hashtag_id #provides target hashtag id\n",
        "\tparams['type'] = 'top_media' #sets media type to top\n",
        "\ttop_response = getHashtagMedia(params) #function call that returns post info\n",
        "\n",
        "\tparams['hashtag_id'] = hashtag_id #provides target hashtag id\n",
        "\tparams['type'] = 'recent_media' #sets media type to recent\n",
        "\trecent_response = getHashtagMedia(params) #function call that returns post info\n",
        "\n",
        "\treturn top_response, recent_response\n",
        "\n",
        "def getMediaCommentCount ( top_response, recent_response ) : \n",
        "\t\"\"\" \n",
        "\t\tGets comment counts from recent and top posts, and compiles data into a list of tuples\n",
        "\t\tcontaining the media id and its comment count\n",
        "\t\"\"\"\n",
        "\tcomment_counts = [] #creates a list that will contain each top post's comment count\n",
        "\tcomment_counts = [post['comments_count'] for post in top_response['json_data']['data']]  #appends each top post's comment count to the list\n",
        "\tpost_id = [] #creates a list that will contain each top post's id\n",
        "\tpost_id = [post['id'] for post in top_response['json_data']['data']] #appends each top post id to the list\n",
        "\tpost_id_and_comment_counts = list(zip(post_id, comment_counts)) #creates a tuple that combines top post id and comment count\n",
        "\n",
        "\trecent_comment_counts = [] #creates a list that will contain each recent post's comment count\n",
        "\trecent_comment_counts = [post['comments_count'] for post in recent_response['json_data']['data']] #appends each recent post's comment count to the list\n",
        "\trecent_post_id = [] #creates a list that will contain each recent post's id\n",
        "\trecent_post_id = [post['id'] for post in recent_response['json_data']['data']] #appends each recent post id to the list\n",
        "\trecent_post_id_and_comment_counts = list(zip(recent_post_id, recent_comment_counts)) #creates a tuple that combines recent post id and comment count\n",
        " \n",
        "\tpost_id_and_comment_counts += recent_post_id_and_comment_counts #appends recent comment counts to top comment counts3\n",
        "\n",
        "\treturn post_id_and_comment_counts\n",
        "\n",
        "def getMediaLikeCount ( top_response, recent_response ) : \n",
        "\t\"\"\" \n",
        "\t\tGets like counts from recent and top posts, and compiles data into a list of tuples containing the media\n",
        "\t\tid and its number of likes.\n",
        "\t\"\"\"\n",
        "\tlike_counts = [] #creates a list that will contain each top post's like count\n",
        "\tlike_counts = [post['like_count'] for post in top_response['json_data']['data']]  #appends each top post's like count to the list\n",
        "\tpost_id = [] #creates a list that will contain each top post's id\n",
        "\tpost_id = [post['id'] for post in top_response['json_data']['data']] #appends each top post id to the list\n",
        "\tpost_id_and_like_counts = list(zip(post_id, like_counts)) #creates a tuple that combines top post id and like count\n",
        "\t\n",
        "\trecent_like_counts = [] #creates a list that will contain each recent post's like count\n",
        "\trecent_like_counts = [post['like_count'] for post in recent_response['json_data']['data']] #appends each recent post's like count to the list\n",
        "\trecent_post_id = [] #creates a list that will contain each recent post's id\n",
        "\trecent_post_id = [post['id'] for post in recent_response['json_data']['data']] #appends each recent post id to the list\n",
        "\trecent_post_id_and_like_counts = list(zip(recent_post_id, recent_like_counts)) #creates a tuple that combines recent post id and like count\n",
        " \n",
        "\tpost_id_and_like_counts += recent_post_id_and_like_counts #appends recent like counts to top like counts\n",
        "\t\n",
        "\treturn post_id_and_like_counts\n",
        "\n",
        "def getMediaCaptions ( top_response, recent_response ) :\n",
        "\t\"\"\"\n",
        "\t\tCreates a list of tuples containing media ids and their captions\n",
        "\t\"\"\"\n",
        "\tcaptions = [] #creates a list that will contain each top post's caption\n",
        "\tcaptions = [post['caption'] for post in top_response['json_data']['data']] #appends each top post's caption to the list\n",
        "\tpost_id = [] #creates a list that will contain each top post's id\n",
        "\tpost_id = [post['id'] for post in top_response['json_data']['data']] #appends each top post id to the list\n",
        "\tpost_id_and_captions = list(zip(post_id,captions)) #creates a tuple that combines top post id and captions\n",
        "\t\n",
        "\trecent_captions = [] #creates a list that will contain each recent post's caption\n",
        "\trecent_captions = [post['caption'] for post in recent_response['json_data']['data']] #appends each recent post's like caption to the list\n",
        "\trecent_post_id = [] #creates a list that will contain each recent post's id\n",
        "\trecent_post_id = [post['id'] for post in recent_response['json_data']['data']] #appends each recent post id to the list\n",
        "\trecent_post_id_and_captions = list(zip(recent_post_id, recent_captions)) #creates a tuple that combines recent post id and captions\n",
        " \n",
        "\tpost_id_and_captions += recent_post_id_and_captions #appends recent captions to top captions\n",
        "\t\n",
        "\treturn post_id_and_captions\n",
        "\n",
        "def getRelatedHashtags ( captions_and_ids ) : \n",
        "\t\"\"\"\n",
        "\t\tCreates a list of tuples that each contain a media id and a list of the media's related hashtags.\n",
        "\t\"\"\"\n",
        "\t# captions_and_ids = getMediaCaptions() #function call that returns a list of media ids and their captions.\n",
        "\tids, captions = zip(*captions_and_ids) #separates the ids and captions into 2 lists\n",
        "\tsplit_captions = [caption.split() for caption in captions] #separates each caption into a list of words\n",
        "\trelated_hashtags = [] #declaration of a list that will store lists of hashtags, wherein each inner list represents a single post \n",
        "\tfor caption in split_captions: #iterates through each caption in the initial list of captions\n",
        "\t\tcaption_hashtags = [] #creates a new inner list for each caption \n",
        "\t\tfor item in caption: #iterates through each item in the caption \n",
        "\t\t\tif item[0] == '#': #checks if the item's first character is a hashtag\n",
        "\t\t\t\tcaption_hashtags.append(item) #adds the item to the inner list if so\n",
        "\t\trelated_hashtags.append(caption_hashtags) #adds the inner list to the outter list \n",
        "\trelated_hashtags = list(zip(ids, related_hashtags)) #creates a list of tuples that each contain the post id and a list of its related hashtags\n",
        "\t\n",
        "\treturn related_hashtags\n",
        "\n",
        "def compilePostData ( like_counts, comment_counts, media_captions, media_hashtags ) :\n",
        "\t\"\"\"\n",
        "\t\tCreates a list of dictionaries that each represent a single ID and contain related hashtags and pertinent metrics\n",
        "\t\"\"\"\n",
        "\t# like_counts = getMediaLikeCount()\n",
        "\t# comment_counts = getMediaCommentCount()\n",
        "\t# media_captions = getMediaCaptions()\n",
        "\t# media_hashtags = getRelatedHashtags()\n",
        " \n",
        "\tids, likes = zip(*like_counts)\n",
        "\tids, comments = zip(*comment_counts)\n",
        "\tids, captions = zip(*media_captions)\n",
        "\tids, hashtags = zip(*media_hashtags)\n",
        "\t\n",
        "\tlist_of_dicts = []\n",
        "\tindex = 0\n",
        "\tfor id in ids:\n",
        "\t\tid_dict = {}\n",
        "\t\tid_dict['id'] = id\n",
        "\t\tid_dict['caption'] = captions[index]\n",
        "\t\tid_dict['hashtags'] = hashtags[index]\n",
        "\t\tid_dict['likes'] = likes[index]\n",
        "\t\tid_dict['comments'] = comments[index]\n",
        "\t\tlist_of_dicts.append(id_dict)\n",
        "\t\tindex += 1\n",
        "\treturn list_of_dicts\n",
        "\n",
        "def getLikeTotals ( related_hashtags, list_of_dictionaries ) : \n",
        "\t\"\"\"\n",
        "\t\tCreates a nested list containing like totals for each individual hashtag on a piece of related media\n",
        "\t\"\"\"\n",
        "\t# related_hashtags = getRelatedHashtags()\n",
        "\t# list_of_dictionaries = compilePostData()\n",
        "\t\n",
        "\tids, lists_of_hashtags = zip(*related_hashtags)\n",
        "\taggregated_like_counts = []\n",
        "\tfor list_ in lists_of_hashtags:\n",
        "\t\tlike_counts = []\n",
        "\t\tfor hashtag in list_:\n",
        "\t\t\tlike_count = 0\n",
        "\t\t\tfor dictionary in list_of_dictionaries:\n",
        "\t\t\t\tif hashtag in dictionary['hashtags']:\n",
        "\t\t\t\t\tlike_count += dictionary['likes']\n",
        "\t\t\tlike_counts.append(like_count)\n",
        "\t\taggregated_like_counts.append(like_counts)\n",
        "\treturn aggregated_like_counts\n",
        "\t\t\t\n",
        "def getCommentTotals ( related_hashtags, list_of_dictionaries ) :  \n",
        "\t\"\"\"\n",
        "\t\tCreates a nested list containing comment totals for each individual hashtag on a piece of related media\n",
        "\t\"\"\"\n",
        "\t# related_hashtags = getRelatedHashtags()\n",
        "\t# list_of_dictionaries = compilePostData()\n",
        "\t\n",
        "\tids, lists_of_hashtags = zip(*related_hashtags)\n",
        "\taggregated_comment_counts = []\n",
        "\tfor list_ in lists_of_hashtags:\n",
        "\t\tcomment_counts = []\n",
        "\t\tfor hashtag in list_:\n",
        "\t\t\tcomment_count = 0\n",
        "\t\t\tfor dictionary in list_of_dictionaries:\n",
        "\t\t\t\tif hashtag in dictionary['hashtags']:\n",
        "\t\t\t\t\tcomment_count += dictionary['comments']\n",
        "\t\t\tcomment_counts.append(comment_count)\n",
        "\t\taggregated_comment_counts.append(comment_counts)\n",
        "\treturn aggregated_comment_counts\n",
        "\n",
        "def getNumberOfPosts ( related_hashtags, list_of_dictionaries ) :  \n",
        "\t\"\"\"\n",
        "\t\tCreates a nested list containing number of posts for each individual hashtag on a piece of related media\n",
        "\t\"\"\"\n",
        "\t# related_hashtags = getRelatedHashtags()\n",
        "\t# list_of_dictionaries = compilePostData()\n",
        "\t\n",
        "\tids, lists_of_hashtags = zip(*related_hashtags)\n",
        "\taggregated_post_counts = []\n",
        "\tfor list_ in lists_of_hashtags:\n",
        "\t\tpost_counts = []\n",
        "\t\tfor hashtag in list_:\n",
        "\t\t\tpost_count = 0\n",
        "\t\t\tfor dictionary in list_of_dictionaries:\n",
        "\t\t\t\tif hashtag in dictionary['hashtags']:\n",
        "\t\t\t\t\tpost_count += 1\n",
        "\t\t\tpost_counts.append(post_count)\n",
        "\t\taggregated_post_counts.append(post_counts)\n",
        "\treturn aggregated_post_counts\n",
        "\t\n",
        "def compileHashtagData ( related_hashtags, list_of_dictionaries, number_of_posts, total_likes, total_comments) :\n",
        "\t\"\"\"\n",
        "\t\tCreates a nested dict with each hashtag and their respective values.\t\t\t\n",
        "\t\"\"\"\n",
        "\t# related_hashtags = getRelatedHashtags()\n",
        "\t# list_of_dictionaries = compilePostData()\n",
        "\t# number_of_posts = getNumberOfPosts()\n",
        "\t# total_likes = getLikeTotals()\n",
        "\t# total_comments = getCommentTotals()\n",
        "\t\n",
        "\tids, lists_of_hashtags = zip(*related_hashtags)\n",
        "\thashtag_info = {}\n",
        "\n",
        "\touter_index = 0\n",
        "\tfor list_ in lists_of_hashtags:\n",
        "\t\tinner_index = 0\n",
        "\t\tfor hashtag in list_:\n",
        "\t\t\tif hashtag not in hashtag_info:  #TODO: create nested dict\n",
        "\t\t\t\thashtag_info['{}'.format(hashtag)] = {}\n",
        "\t\t\t\thashtag_info['{}'.format(hashtag)]['total_likes'] = total_likes[outer_index][inner_index]\n",
        "\t\t\t\thashtag_info['{}'.format(hashtag)]['total_comments'] = total_comments[outer_index][inner_index]\n",
        "\t\t\t\thashtag_info['{}'.format(hashtag)]['number_of_posts'] = number_of_posts[outer_index][inner_index]\n",
        "\t\t\tinner_index += 1\n",
        "\t\touter_index += 1\n",
        "\treturn hashtag_info\n",
        "\n",
        "\n",
        "def returnTable () :\n",
        "\t\"\"\"\n",
        "\t\tReturns a table with related hashtag info\n",
        "\t\"\"\"\n",
        "\ttable = PrettyTable()\n",
        "\ttable.field_names = ['Hashtag','Engagements','Posts','Avg Engagement']\n",
        "\treturn table"
      ],
      "execution_count": null,
      "outputs": []
    },
    {
      "cell_type": "markdown",
      "metadata": {
        "id": "ZIahZd0IbeFu",
        "colab_type": "text"
      },
      "source": [
        "### Example API Calls\n",
        "\n",
        "TODO: explain what this example is doing"
      ]
    },
    {
      "cell_type": "code",
      "metadata": {
        "id": "qYfHa39JlPji",
        "colab_type": "code",
        "colab": {}
      },
      "source": [
        "params = getCreds()"
      ],
      "execution_count": null,
      "outputs": []
    },
    {
      "cell_type": "code",
      "metadata": {
        "id": "lvW9jyRTomP4",
        "colab_type": "code",
        "colab": {}
      },
      "source": [
        "hashtag_info = getHashtagInfo( 'blogger', params )\n",
        "hashtag_id = hashtag_info['json_data']['data'][0]['id']"
      ],
      "execution_count": null,
      "outputs": []
    },
    {
      "cell_type": "code",
      "metadata": {
        "id": "ZpS2ABxVm2Cg",
        "colab_type": "code",
        "colab": {}
      },
      "source": [
        "top_response, recent_response = getHashtagMediaAll(hashtag_id, params)"
      ],
      "execution_count": null,
      "outputs": []
    },
    {
      "cell_type": "code",
      "metadata": {
        "id": "B3W4vRt4T1L2",
        "colab_type": "code",
        "colab": {}
      },
      "source": [
        "recent_response"
      ],
      "execution_count": null,
      "outputs": []
    },
    {
      "cell_type": "code",
      "metadata": {
        "id": "rcd63dpOm7zS",
        "colab_type": "code",
        "colab": {}
      },
      "source": [
        "comment_counts = getMediaCommentCount(top_response, recent_response)"
      ],
      "execution_count": null,
      "outputs": []
    },
    {
      "cell_type": "code",
      "metadata": {
        "id": "xHJEaDSkloG3",
        "colab_type": "code",
        "colab": {}
      },
      "source": [
        "like_counts = getMediaLikeCount(top_response, recent_response)"
      ],
      "execution_count": null,
      "outputs": []
    },
    {
      "cell_type": "code",
      "metadata": {
        "id": "8e5rF5JGkroA",
        "colab_type": "code",
        "colab": {}
      },
      "source": [
        "captions_and_ids = getMediaCaptions(top_response, recent_response)"
      ],
      "execution_count": null,
      "outputs": []
    },
    {
      "cell_type": "code",
      "metadata": {
        "id": "iP1CoDu3kH9U",
        "colab_type": "code",
        "colab": {}
      },
      "source": [
        "related_hashtags = getRelatedHashtags(captions_and_ids)"
      ],
      "execution_count": null,
      "outputs": []
    },
    {
      "cell_type": "code",
      "metadata": {
        "id": "RiZVl8zLioik",
        "colab_type": "code",
        "colab": {}
      },
      "source": [
        "list_of_dictionaries = compilePostData(like_counts, comment_counts, captions_and_ids, related_hashtags)"
      ],
      "execution_count": null,
      "outputs": []
    },
    {
      "cell_type": "code",
      "metadata": {
        "id": "hXnzTHlCuKGJ",
        "colab_type": "code",
        "colab": {}
      },
      "source": [
        "list_of_dictionaries"
      ],
      "execution_count": null,
      "outputs": []
    },
    {
      "cell_type": "code",
      "metadata": {
        "id": "gc1ARBawio0O",
        "colab_type": "code",
        "colab": {}
      },
      "source": [
        "number_of_posts = getNumberOfPosts(related_hashtags, list_of_dictionaries)"
      ],
      "execution_count": null,
      "outputs": []
    },
    {
      "cell_type": "code",
      "metadata": {
        "id": "0MCvJ1TWio4C",
        "colab_type": "code",
        "colab": {}
      },
      "source": [
        "total_likes = getLikeTotals(related_hashtags, list_of_dictionaries)"
      ],
      "execution_count": null,
      "outputs": []
    },
    {
      "cell_type": "code",
      "metadata": {
        "id": "2aPmNWQFipCF",
        "colab_type": "code",
        "colab": {}
      },
      "source": [
        "total_comments = getCommentTotals(related_hashtags, list_of_dictionaries)"
      ],
      "execution_count": null,
      "outputs": []
    },
    {
      "cell_type": "code",
      "metadata": {
        "id": "Qf_MpE3MH7Wm",
        "colab_type": "code",
        "colab": {}
      },
      "source": [
        "hashtag_data = compileHashtagData(related_hashtags, list_of_dictionaries, number_of_posts, total_likes, total_comments)"
      ],
      "execution_count": null,
      "outputs": []
    },
    {
      "cell_type": "code",
      "metadata": {
        "id": "Q6myzUrSveCd",
        "colab_type": "code",
        "colab": {}
      },
      "source": [
        "hashtag_data"
      ],
      "execution_count": null,
      "outputs": []
    },
    {
      "cell_type": "code",
      "metadata": {
        "id": "sT7Ttq1Lms6_",
        "colab_type": "code",
        "colab": {}
      },
      "source": [
        "df = pd.DataFrame(hashtag_data).T.sort_values('total_comments')"
      ],
      "execution_count": null,
      "outputs": []
    },
    {
      "cell_type": "code",
      "metadata": {
        "id": "3KIvbrcpnyiI",
        "colab_type": "code",
        "colab": {
          "base_uri": "https://localhost:8080/",
          "height": 419
        },
        "outputId": "c853a736-91b6-4d19-e577-f0975b87f878"
      },
      "source": [
        "df"
      ],
      "execution_count": null,
      "outputs": [
        {
          "output_type": "execute_result",
          "data": {
            "text/html": [
              "<div>\n",
              "<style scoped>\n",
              "    .dataframe tbody tr th:only-of-type {\n",
              "        vertical-align: middle;\n",
              "    }\n",
              "\n",
              "    .dataframe tbody tr th {\n",
              "        vertical-align: top;\n",
              "    }\n",
              "\n",
              "    .dataframe thead th {\n",
              "        text-align: right;\n",
              "    }\n",
              "</style>\n",
              "<table border=\"1\" class=\"dataframe\">\n",
              "  <thead>\n",
              "    <tr style=\"text-align: right;\">\n",
              "      <th></th>\n",
              "      <th>total_likes</th>\n",
              "      <th>total_comments</th>\n",
              "      <th>number_of_posts</th>\n",
              "    </tr>\n",
              "  </thead>\n",
              "  <tbody>\n",
              "    <tr>\n",
              "      <th>#LoveYOU</th>\n",
              "      <td>1</td>\n",
              "      <td>0</td>\n",
              "      <td>1</td>\n",
              "    </tr>\n",
              "    <tr>\n",
              "      <th>#poseking</th>\n",
              "      <td>2</td>\n",
              "      <td>0</td>\n",
              "      <td>1</td>\n",
              "    </tr>\n",
              "    <tr>\n",
              "      <th>#professional</th>\n",
              "      <td>2</td>\n",
              "      <td>0</td>\n",
              "      <td>1</td>\n",
              "    </tr>\n",
              "    <tr>\n",
              "      <th>#posing</th>\n",
              "      <td>2</td>\n",
              "      <td>0</td>\n",
              "      <td>1</td>\n",
              "    </tr>\n",
              "    <tr>\n",
              "      <th>#posesforpictures</th>\n",
              "      <td>2</td>\n",
              "      <td>0</td>\n",
              "      <td>1</td>\n",
              "    </tr>\n",
              "    <tr>\n",
              "      <th>...</th>\n",
              "      <td>...</td>\n",
              "      <td>...</td>\n",
              "      <td>...</td>\n",
              "    </tr>\n",
              "    <tr>\n",
              "      <th>#bloggerstyle</th>\n",
              "      <td>683</td>\n",
              "      <td>110</td>\n",
              "      <td>4</td>\n",
              "    </tr>\n",
              "    <tr>\n",
              "      <th>#styleideas</th>\n",
              "      <td>4390</td>\n",
              "      <td>142</td>\n",
              "      <td>2</td>\n",
              "    </tr>\n",
              "    <tr>\n",
              "      <th>#ootdfashion</th>\n",
              "      <td>4390</td>\n",
              "      <td>142</td>\n",
              "      <td>2</td>\n",
              "    </tr>\n",
              "    <tr>\n",
              "      <th>#ootd</th>\n",
              "      <td>4511</td>\n",
              "      <td>146</td>\n",
              "      <td>5</td>\n",
              "    </tr>\n",
              "    <tr>\n",
              "      <th>#blogger</th>\n",
              "      <td>6344</td>\n",
              "      <td>340</td>\n",
              "      <td>27</td>\n",
              "    </tr>\n",
              "  </tbody>\n",
              "</table>\n",
              "<p>460 rows × 3 columns</p>\n",
              "</div>"
            ],
            "text/plain": [
              "                   total_likes  total_comments  number_of_posts\n",
              "#LoveYOU                     1               0                1\n",
              "#poseking                    2               0                1\n",
              "#professional                2               0                1\n",
              "#posing                      2               0                1\n",
              "#posesforpictures            2               0                1\n",
              "...                        ...             ...              ...\n",
              "#bloggerstyle              683             110                4\n",
              "#styleideas               4390             142                2\n",
              "#ootdfashion              4390             142                2\n",
              "#ootd                     4511             146                5\n",
              "#blogger                  6344             340               27\n",
              "\n",
              "[460 rows x 3 columns]"
            ]
          },
          "metadata": {
            "tags": []
          },
          "execution_count": 113
        }
      ]
    },
    {
      "cell_type": "code",
      "metadata": {
        "id": "jWyLiMXvn104",
        "colab_type": "code",
        "colab": {}
      },
      "source": [
        "df['avg_engagement'] = (df['total_likes'] + df['total_comments']) / df['number_of_posts']"
      ],
      "execution_count": null,
      "outputs": []
    },
    {
      "cell_type": "code",
      "metadata": {
        "id": "M-J0CDUUoBXB",
        "colab_type": "code",
        "colab": {
          "base_uri": "https://localhost:8080/",
          "height": 669
        },
        "outputId": "2dbbcf44-08fb-439e-c3d8-a23409eebd55"
      },
      "source": [
        "df.sort_values('number_of_posts', ascending=False).head(20)"
      ],
      "execution_count": null,
      "outputs": [
        {
          "output_type": "execute_result",
          "data": {
            "text/html": [
              "<div>\n",
              "<style scoped>\n",
              "    .dataframe tbody tr th:only-of-type {\n",
              "        vertical-align: middle;\n",
              "    }\n",
              "\n",
              "    .dataframe tbody tr th {\n",
              "        vertical-align: top;\n",
              "    }\n",
              "\n",
              "    .dataframe thead th {\n",
              "        text-align: right;\n",
              "    }\n",
              "</style>\n",
              "<table border=\"1\" class=\"dataframe\">\n",
              "  <thead>\n",
              "    <tr style=\"text-align: right;\">\n",
              "      <th></th>\n",
              "      <th>total_likes</th>\n",
              "      <th>total_comments</th>\n",
              "      <th>number_of_posts</th>\n",
              "      <th>avg_engagement</th>\n",
              "    </tr>\n",
              "  </thead>\n",
              "  <tbody>\n",
              "    <tr>\n",
              "      <th>#tutoring</th>\n",
              "      <td>24725</td>\n",
              "      <td>549</td>\n",
              "      <td>37</td>\n",
              "      <td>683.081081</td>\n",
              "    </tr>\n",
              "    <tr>\n",
              "      <th>#education</th>\n",
              "      <td>420</td>\n",
              "      <td>19</td>\n",
              "      <td>11</td>\n",
              "      <td>39.909091</td>\n",
              "    </tr>\n",
              "    <tr>\n",
              "      <th>#learning</th>\n",
              "      <td>253</td>\n",
              "      <td>33</td>\n",
              "      <td>9</td>\n",
              "      <td>31.777778</td>\n",
              "    </tr>\n",
              "    <tr>\n",
              "      <th>#tutor</th>\n",
              "      <td>574</td>\n",
              "      <td>22</td>\n",
              "      <td>7</td>\n",
              "      <td>85.142857</td>\n",
              "    </tr>\n",
              "    <tr>\n",
              "      <th>#student</th>\n",
              "      <td>1944</td>\n",
              "      <td>64</td>\n",
              "      <td>6</td>\n",
              "      <td>334.666667</td>\n",
              "    </tr>\n",
              "    <tr>\n",
              "      <th>#math</th>\n",
              "      <td>1974</td>\n",
              "      <td>63</td>\n",
              "      <td>6</td>\n",
              "      <td>339.500000</td>\n",
              "    </tr>\n",
              "    <tr>\n",
              "      <th>#homeschool</th>\n",
              "      <td>13461</td>\n",
              "      <td>137</td>\n",
              "      <td>5</td>\n",
              "      <td>2719.600000</td>\n",
              "    </tr>\n",
              "    <tr>\n",
              "      <th>#college</th>\n",
              "      <td>1960</td>\n",
              "      <td>60</td>\n",
              "      <td>5</td>\n",
              "      <td>404.000000</td>\n",
              "    </tr>\n",
              "    <tr>\n",
              "      <th>#onlinetutoring</th>\n",
              "      <td>459</td>\n",
              "      <td>18</td>\n",
              "      <td>5</td>\n",
              "      <td>95.400000</td>\n",
              "    </tr>\n",
              "    <tr>\n",
              "      <th>#fun</th>\n",
              "      <td>14</td>\n",
              "      <td>0</td>\n",
              "      <td>5</td>\n",
              "      <td>2.800000</td>\n",
              "    </tr>\n",
              "    <tr>\n",
              "      <th>#dad</th>\n",
              "      <td>4</td>\n",
              "      <td>0</td>\n",
              "      <td>4</td>\n",
              "      <td>1.000000</td>\n",
              "    </tr>\n",
              "    <tr>\n",
              "      <th>#school</th>\n",
              "      <td>2067</td>\n",
              "      <td>77</td>\n",
              "      <td>4</td>\n",
              "      <td>536.000000</td>\n",
              "    </tr>\n",
              "    <tr>\n",
              "      <th>#teacher</th>\n",
              "      <td>1943</td>\n",
              "      <td>64</td>\n",
              "      <td>4</td>\n",
              "      <td>501.750000</td>\n",
              "    </tr>\n",
              "    <tr>\n",
              "      <th>#mum</th>\n",
              "      <td>4</td>\n",
              "      <td>0</td>\n",
              "      <td>4</td>\n",
              "      <td>1.000000</td>\n",
              "    </tr>\n",
              "    <tr>\n",
              "      <th>#science</th>\n",
              "      <td>1955</td>\n",
              "      <td>62</td>\n",
              "      <td>4</td>\n",
              "      <td>504.250000</td>\n",
              "    </tr>\n",
              "    <tr>\n",
              "      <th>#tutoringservices</th>\n",
              "      <td>2136</td>\n",
              "      <td>60</td>\n",
              "      <td>4</td>\n",
              "      <td>549.000000</td>\n",
              "    </tr>\n",
              "    <tr>\n",
              "      <th>#study</th>\n",
              "      <td>382</td>\n",
              "      <td>27</td>\n",
              "      <td>4</td>\n",
              "      <td>102.250000</td>\n",
              "    </tr>\n",
              "    <tr>\n",
              "      <th>#online</th>\n",
              "      <td>1968</td>\n",
              "      <td>60</td>\n",
              "      <td>3</td>\n",
              "      <td>676.000000</td>\n",
              "    </tr>\n",
              "    <tr>\n",
              "      <th>#backtoschool</th>\n",
              "      <td>2116</td>\n",
              "      <td>68</td>\n",
              "      <td>3</td>\n",
              "      <td>728.000000</td>\n",
              "    </tr>\n",
              "    <tr>\n",
              "      <th>#satprep</th>\n",
              "      <td>6</td>\n",
              "      <td>0</td>\n",
              "      <td>3</td>\n",
              "      <td>2.000000</td>\n",
              "    </tr>\n",
              "  </tbody>\n",
              "</table>\n",
              "</div>"
            ],
            "text/plain": [
              "                   total_likes  total_comments  number_of_posts  avg_engagement\n",
              "#tutoring                24725             549               37      683.081081\n",
              "#education                 420              19               11       39.909091\n",
              "#learning                  253              33                9       31.777778\n",
              "#tutor                     574              22                7       85.142857\n",
              "#student                  1944              64                6      334.666667\n",
              "#math                     1974              63                6      339.500000\n",
              "#homeschool              13461             137                5     2719.600000\n",
              "#college                  1960              60                5      404.000000\n",
              "#onlinetutoring            459              18                5       95.400000\n",
              "#fun                        14               0                5        2.800000\n",
              "#dad                         4               0                4        1.000000\n",
              "#school                   2067              77                4      536.000000\n",
              "#teacher                  1943              64                4      501.750000\n",
              "#mum                         4               0                4        1.000000\n",
              "#science                  1955              62                4      504.250000\n",
              "#tutoringservices         2136              60                4      549.000000\n",
              "#study                     382              27                4      102.250000\n",
              "#online                   1968              60                3      676.000000\n",
              "#backtoschool             2116              68                3      728.000000\n",
              "#satprep                     6               0                3        2.000000"
            ]
          },
          "metadata": {
            "tags": []
          },
          "execution_count": 28
        }
      ]
    },
    {
      "cell_type": "code",
      "metadata": {
        "id": "7KxOfp8QM2x_",
        "colab_type": "code",
        "colab": {
          "base_uri": "https://localhost:8080/",
          "height": 297
        },
        "outputId": "4857fbe1-fcbf-40b2-cf01-2e1beba42335"
      },
      "source": [
        "df.describe()"
      ],
      "execution_count": null,
      "outputs": [
        {
          "output_type": "execute_result",
          "data": {
            "text/html": [
              "<div>\n",
              "<style scoped>\n",
              "    .dataframe tbody tr th:only-of-type {\n",
              "        vertical-align: middle;\n",
              "    }\n",
              "\n",
              "    .dataframe tbody tr th {\n",
              "        vertical-align: top;\n",
              "    }\n",
              "\n",
              "    .dataframe thead th {\n",
              "        text-align: right;\n",
              "    }\n",
              "</style>\n",
              "<table border=\"1\" class=\"dataframe\">\n",
              "  <thead>\n",
              "    <tr style=\"text-align: right;\">\n",
              "      <th></th>\n",
              "      <th>total_likes</th>\n",
              "      <th>total_comments</th>\n",
              "      <th>number_of_posts</th>\n",
              "      <th>avg_engagement</th>\n",
              "    </tr>\n",
              "  </thead>\n",
              "  <tbody>\n",
              "    <tr>\n",
              "      <th>count</th>\n",
              "      <td>427.00000</td>\n",
              "      <td>427.000000</td>\n",
              "      <td>427.000000</td>\n",
              "      <td>427.000000</td>\n",
              "    </tr>\n",
              "    <tr>\n",
              "      <th>mean</th>\n",
              "      <td>656.17096</td>\n",
              "      <td>18.721311</td>\n",
              "      <td>1.395785</td>\n",
              "      <td>510.108808</td>\n",
              "    </tr>\n",
              "    <tr>\n",
              "      <th>std</th>\n",
              "      <td>2140.84620</td>\n",
              "      <td>47.524341</td>\n",
              "      <td>1.997717</td>\n",
              "      <td>1632.531423</td>\n",
              "    </tr>\n",
              "    <tr>\n",
              "      <th>min</th>\n",
              "      <td>0.00000</td>\n",
              "      <td>0.000000</td>\n",
              "      <td>1.000000</td>\n",
              "      <td>0.000000</td>\n",
              "    </tr>\n",
              "    <tr>\n",
              "      <th>25%</th>\n",
              "      <td>7.00000</td>\n",
              "      <td>0.000000</td>\n",
              "      <td>1.000000</td>\n",
              "      <td>7.000000</td>\n",
              "    </tr>\n",
              "    <tr>\n",
              "      <th>50%</th>\n",
              "      <td>102.00000</td>\n",
              "      <td>3.000000</td>\n",
              "      <td>1.000000</td>\n",
              "      <td>102.000000</td>\n",
              "    </tr>\n",
              "    <tr>\n",
              "      <th>75%</th>\n",
              "      <td>139.00000</td>\n",
              "      <td>14.000000</td>\n",
              "      <td>1.000000</td>\n",
              "      <td>145.000000</td>\n",
              "    </tr>\n",
              "    <tr>\n",
              "      <th>max</th>\n",
              "      <td>24725.00000</td>\n",
              "      <td>549.000000</td>\n",
              "      <td>37.000000</td>\n",
              "      <td>10306.000000</td>\n",
              "    </tr>\n",
              "  </tbody>\n",
              "</table>\n",
              "</div>"
            ],
            "text/plain": [
              "       total_likes  total_comments  number_of_posts  avg_engagement\n",
              "count    427.00000      427.000000       427.000000      427.000000\n",
              "mean     656.17096       18.721311         1.395785      510.108808\n",
              "std     2140.84620       47.524341         1.997717     1632.531423\n",
              "min        0.00000        0.000000         1.000000        0.000000\n",
              "25%        7.00000        0.000000         1.000000        7.000000\n",
              "50%      102.00000        3.000000         1.000000      102.000000\n",
              "75%      139.00000       14.000000         1.000000      145.000000\n",
              "max    24725.00000      549.000000        37.000000    10306.000000"
            ]
          },
          "metadata": {
            "tags": []
          },
          "execution_count": 25
        }
      ]
    },
    {
      "cell_type": "markdown",
      "metadata": {
        "id": "VI4nEu_vcYEQ",
        "colab_type": "text"
      },
      "source": [
        "### Another Example of API Calls\n",
        "\n",
        "TODO: explain what this example is doing and how it works"
      ]
    },
    {
      "cell_type": "code",
      "metadata": {
        "id": "fEGlnZ-EVYTr",
        "colab_type": "code",
        "colab": {
          "base_uri": "https://localhost:8080/",
          "height": 232
        },
        "outputId": "845b0736-b761-48ed-ad65-3d44335fe56b"
      },
      "source": [
        "params = getCreds()\n",
        "params['hashtag_id'] = '17841563278115808'\n",
        "params['type'] = 'top_media'\n",
        "top_response = getHashtagMedia(params)\n",
        "params['type'] = 'recent_media'\n",
        "recent_response = getHashtagMedia(params)"
      ],
      "execution_count": null,
      "outputs": [
        {
          "output_type": "error",
          "ename": "NameError",
          "evalue": "ignored",
          "traceback": [
            "\u001b[0;31m---------------------------------------------------------------------------\u001b[0m",
            "\u001b[0;31mNameError\u001b[0m                                 Traceback (most recent call last)",
            "\u001b[0;32m<ipython-input-2-3aa237b5dde6>\u001b[0m in \u001b[0;36m<module>\u001b[0;34m()\u001b[0m\n\u001b[0;32m----> 1\u001b[0;31m \u001b[0mparams\u001b[0m \u001b[0;34m=\u001b[0m \u001b[0mgetCreds\u001b[0m\u001b[0;34m(\u001b[0m\u001b[0;34m)\u001b[0m\u001b[0;34m\u001b[0m\u001b[0;34m\u001b[0m\u001b[0m\n\u001b[0m\u001b[1;32m      2\u001b[0m \u001b[0mparams\u001b[0m\u001b[0;34m[\u001b[0m\u001b[0;34m'hashtag_id'\u001b[0m\u001b[0;34m]\u001b[0m \u001b[0;34m=\u001b[0m \u001b[0;34m'17841563278115808'\u001b[0m\u001b[0;34m\u001b[0m\u001b[0;34m\u001b[0m\u001b[0m\n\u001b[1;32m      3\u001b[0m \u001b[0mparams\u001b[0m\u001b[0;34m[\u001b[0m\u001b[0;34m'type'\u001b[0m\u001b[0;34m]\u001b[0m \u001b[0;34m=\u001b[0m \u001b[0;34m'top_media'\u001b[0m\u001b[0;34m\u001b[0m\u001b[0;34m\u001b[0m\u001b[0m\n\u001b[1;32m      4\u001b[0m \u001b[0mtop_response\u001b[0m \u001b[0;34m=\u001b[0m \u001b[0mgetHashtagMedia\u001b[0m\u001b[0;34m(\u001b[0m\u001b[0mparams\u001b[0m\u001b[0;34m)\u001b[0m\u001b[0;34m\u001b[0m\u001b[0;34m\u001b[0m\u001b[0m\n\u001b[1;32m      5\u001b[0m \u001b[0mparams\u001b[0m\u001b[0;34m[\u001b[0m\u001b[0;34m'type'\u001b[0m\u001b[0;34m]\u001b[0m \u001b[0;34m=\u001b[0m \u001b[0;34m'recent_media'\u001b[0m\u001b[0;34m\u001b[0m\u001b[0;34m\u001b[0m\u001b[0m\n",
            "\u001b[0;31mNameError\u001b[0m: name 'getCreds' is not defined"
          ]
        }
      ]
    },
    {
      "cell_type": "code",
      "metadata": {
        "id": "GKM-yHoRV9P5",
        "colab_type": "code",
        "colab": {
          "base_uri": "https://localhost:8080/",
          "height": 164
        },
        "outputId": "7b3f24bc-208d-4705-f945-0de1b0fe82f0"
      },
      "source": [
        "top_response"
      ],
      "execution_count": null,
      "outputs": [
        {
          "output_type": "error",
          "ename": "NameError",
          "evalue": "ignored",
          "traceback": [
            "\u001b[0;31m---------------------------------------------------------------------------\u001b[0m",
            "\u001b[0;31mNameError\u001b[0m                                 Traceback (most recent call last)",
            "\u001b[0;32m<ipython-input-3-9d15079ec170>\u001b[0m in \u001b[0;36m<module>\u001b[0;34m()\u001b[0m\n\u001b[0;32m----> 1\u001b[0;31m \u001b[0mtop_response\u001b[0m\u001b[0;34m\u001b[0m\u001b[0;34m\u001b[0m\u001b[0m\n\u001b[0m",
            "\u001b[0;31mNameError\u001b[0m: name 'top_response' is not defined"
          ]
        }
      ]
    },
    {
      "cell_type": "code",
      "metadata": {
        "id": "DM0f8P8uWOoG",
        "colab_type": "code",
        "colab": {}
      },
      "source": [
        "recent_response"
      ],
      "execution_count": null,
      "outputs": []
    },
    {
      "cell_type": "code",
      "metadata": {
        "id": "o15RWY1bTIqH",
        "colab_type": "code",
        "colab": {}
      },
      "source": [
        ""
      ],
      "execution_count": null,
      "outputs": []
    }
  ]
}