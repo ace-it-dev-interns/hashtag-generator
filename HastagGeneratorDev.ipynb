{
 "cells": [
  {
   "cell_type": "markdown",
   "metadata": {
    "colab_type": "text",
    "id": "view-in-github"
   },
   "source": [
    "<a href=\"https://colab.research.google.com/github/sv4u/hashtag-generator/blob/master/HastagGeneratorDev.ipynb\" target=\"_parent\"><img src=\"https://colab.research.google.com/assets/colab-badge.svg\" alt=\"Open In Colab\"/></a>"
   ]
  },
  {
   "cell_type": "markdown",
   "metadata": {
    "colab_type": "text",
    "id": "g_P58U68ZFNA"
   },
   "source": [
    "# Hashtag Generator Development\n",
    "\n",
    "__This program takes any user-selected hashtag as input and outputs a list of the top 30 hashtags optimal for increasing a post's engagement.__"
   ]
  },
  {
   "cell_type": "markdown",
   "metadata": {},
   "source": [
    "# User Guide"
   ]
  },
  {
   "cell_type": "markdown",
   "metadata": {},
   "source": [
    "__Input your hashtag into the first argument of the getHashtagInfo() function in the main program down below. Run the code cell to view the table of results.__"
   ]
  },
  {
   "cell_type": "markdown",
   "metadata": {
    "colab_type": "text",
    "id": "I-8NJO5ZbC22"
   },
   "source": [
    "## Import Statements\n",
    "\n",
    "TODO: insert reasoning behind each import"
   ]
  },
  {
   "cell_type": "code",
   "execution_count": 1,
   "metadata": {},
   "outputs": [
    {
     "name": "stdout",
     "output_type": "stream",
     "text": [
      "Collecting git+https://github.com/ace-it-dev-interns/hashtag-generator.git"
     ]
    },
    {
     "name": "stderr",
     "output_type": "stream",
     "text": [
      "  Running command git clone -q https://github.com/ace-it-dev-interns/hashtag-generator.git 'C:\\Users\\bella\\AppData\\Local\\Temp\\pip-req-build-9rn95c33'\n",
      "    ERROR: Command errored out with exit status 1:\n",
      "     command: 'C:\\Users\\bella\\anaconda3\\python.exe' -c 'import sys, setuptools, tokenize; sys.argv[0] = '\"'\"'C:\\\\Users\\\\bella\\\\AppData\\\\Local\\\\Temp\\\\pip-req-build-9rn95c33\\\\setup.py'\"'\"'; __file__='\"'\"'C:\\\\Users\\\\bella\\\\AppData\\\\Local\\\\Temp\\\\pip-req-build-9rn95c33\\\\setup.py'\"'\"';f=getattr(tokenize, '\"'\"'open'\"'\"', open)(__file__);code=f.read().replace('\"'\"'\\r\\n'\"'\"', '\"'\"'\\n'\"'\"');f.close();exec(compile(code, __file__, '\"'\"'exec'\"'\"'))' egg_info --egg-base 'C:\\Users\\bella\\AppData\\Local\\Temp\\pip-pip-egg-info-ie135vuj'\n",
      "         cwd: C:\\Users\\bella\\AppData\\Local\\Temp\\pip-req-build-9rn95c33\\\n",
      "    Complete output (5 lines):\n",
      "    Traceback (most recent call last):\n",
      "      File \"<string>\", line 1, in <module>\n",
      "      File \"C:\\Users\\bella\\anaconda3\\lib\\tokenize.py\", line 392, in open\n",
      "        buffer = _builtin_open(filename, 'rb')\n",
      "    FileNotFoundError: [Errno 2] No such file or directory: 'C:\\\\Users\\\\bella\\\\AppData\\\\Local\\\\Temp\\\\pip-req-build-9rn95c33\\\\setup.py'\n",
      "    ----------------------------------------\n",
      "ERROR: Command errored out with exit status 1: python setup.py egg_info Check the logs for full command output.\n"
     ]
    },
    {
     "name": "stdout",
     "output_type": "stream",
     "text": [
      "\n",
      "  Cloning https://github.com/ace-it-dev-interns/hashtag-generator.git to c:\\users\\bella\\appdata\\local\\temp\\pip-req-build-9rn95c33\n"
     ]
    }
   ],
   "source": [
    "!pip install git+https://github.com/ace-it-dev-interns/hashtag-generator.git"
   ]
  },
  {
   "cell_type": "code",
   "execution_count": 2,
   "metadata": {
    "colab": {},
    "colab_type": "code",
    "id": "qSaPSukJycfQ"
   },
   "outputs": [],
   "source": [
    "import datetime\n",
    "import requests\n",
    "import json\n",
    "import insta_data"
   ]
  },
  {
   "cell_type": "markdown",
   "metadata": {},
   "source": [
    "# Main Program"
   ]
  },
  {
   "cell_type": "markdown",
   "metadata": {},
   "source": [
    "__Run this cell after inputting the hashtag name.__"
   ]
  },
  {
   "cell_type": "code",
   "execution_count": null,
   "metadata": {
    "colab": {},
    "colab_type": "code",
    "id": "lvW9jyRTomP4"
   },
   "outputs": [],
   "source": [
    "params = insta_data.getCreds()\n",
    "hashtag_info = insta_data.getHashtagInfo( 'blogger', params ) #enter hashtag name here\n",
    "hashtag_id = hashtag_info['json_data']['data'][0]['id']\n",
    "top_response, recent_response = insta_data.getHashtagMediaAll(hashtag_id, params)\n",
    "comment_counts = insta_data.getMediaCommentCount(top_response, recent_response)\n",
    "like_counts = insta_data.getMediaLikeCount(top_response, recent_response)\n",
    "captions_and_ids = insta_data.getMediaCaptions(top_response, recent_response)\n",
    "related_hashtags = insta_data.getRelatedHashtags(captions_and_ids)\n",
    "list_of_dictionaries = insta_data.compilePostData(like_counts, comment_counts, captions_and_ids, related_hashtags)\n",
    "number_of_posts = insta_data.getNumberOfPosts(related_hashtags, list_of_dictionaries)\n",
    "total_likes = insta_data.getLikeTotals(related_hashtags, list_of_dictionaries)\n",
    "total_comments = insta_data.getCommentTotals(related_hashtags, list_of_dictionaries)\n",
    "hashtag_data = insta_data.compileHashtagData(related_hashtags, list_of_dictionaries, number_of_posts, total_likes, total_comments)\n",
    "df = pd.DataFrame(hashtag_data).T.sort_values('total_comments')\n",
    "df['avg_engagement'] = (df['total_likes'] + df['total_comments']) / df['number_of_posts']\n",
    "df.sort_values('number_of_posts', ascending=False).head(30)"
   ]
  }
 ],
 "metadata": {
  "colab": {
   "collapsed_sections": [],
   "include_colab_link": true,
   "name": "HastagGeneratorDev",
   "provenance": [],
   "toc_visible": true
  },
  "kernelspec": {
   "display_name": "Python 3",
   "language": "python",
   "name": "python3"
  },
  "language_info": {
   "codemirror_mode": {
    "name": "ipython",
    "version": 3
   },
   "file_extension": ".py",
   "mimetype": "text/x-python",
   "name": "python",
   "nbconvert_exporter": "python",
   "pygments_lexer": "ipython3",
   "version": "3.8.3"
  }
 },
 "nbformat": 4,
 "nbformat_minor": 1
}
